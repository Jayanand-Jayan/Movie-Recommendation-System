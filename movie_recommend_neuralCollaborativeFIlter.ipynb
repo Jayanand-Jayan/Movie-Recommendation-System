{
 "cells": [
  {
   "cell_type": "markdown",
   "metadata": {
    "id": "xh0rNeYpfB6Q"
   },
   "source": [
    " <center>\n",
    "<h1><b><u>RECOMMENDER SYSTEM BASED ON NEURAL COLLABORATIVE FILTERING</u></b></h1>\n",
    "\n",
    "<br><br>\n",
    "<table>\n",
    "<tr>\n",
    "<th><h4><b>Register Number:</b></h4></th>\n",
    "<td><h4>20BAI1085</h4></td>\n",
    "</tr>\n",
    "\n",
    "<tr>\n",
    "<th><h4><b>Name</b></h4></th>\n",
    "<td><h4>Jayanand Jayan</h4></td>\n",
    "</tr>\n",
    "\n",
    "<tr>\n",
    "<th><h4><b>Course Name</b></h4></th>\n",
    "<td><h4>Deep Learning: Principles and Practices</h4></td>\n",
    "</tr>\n",
    "\n",
    "<tr>\n",
    "<th><h4><b>Course Code</b></h4></th>\n",
    "<td><h4>CSE1016</h4></td>\n",
    "</tr>\n",
    "\n",
    "<tr>\n",
    "<th><h4><b>Date</b></h4></th>\n",
    "<td><h4>09-11-2022</h4></td>\n",
    "</tr>\n",
    "</table>\n",
    "\n",
    "</center>"
   ]
  },
  {
   "cell_type": "markdown",
   "metadata": {
    "id": "n9yoCuiiguEF"
   },
   "source": [
    "<center>\n",
    "<h2>ABSTRACT</h2>\n",
    "</center>\n",
    "\n",
    "<justify>\n",
    "There are three types of Recommender Systems based on their basic idea of recommendations:\n",
    "\n",
    "<ul>\n",
    "<li>Demographic Filtering</li>\n",
    "<li>Content Based Filtering</li>\n",
    "<li>Collaborative Filtering</li>\n",
    "</ul>\n",
    "\n",
    "In this notebook, I implement Collaborative Filtering. \n",
    "<br>\n",
    "Collaborative Filtering is usually implemented using methods like clustering, nearest neighbours (KNN), and matrix factorization (SVD). However, with the evolution of Deep Learning in the recent years, the use of the same has seen a rise in Recommender Systems. I have used Neural Collaborative Filtering in this notebook to implement such a Recommender System. \n",
    "</justify>"
   ]
  },
  {
   "cell_type": "markdown",
   "metadata": {
    "id": "6vX_Zr05kXfk"
   },
   "source": [
    "<center>\n",
    "<h2>INTRODUCTION</h2>\n",
    "</center>\n",
    "\n",
    "<b>Explicit Feedback:</b> In the context of recommender systems, explicit feedback are direct and quantitative data collected from users. For example, Amazon allows users to rate purchased items on a scale of 1–10.<br><br>\n",
    "<b>Implicit Feedback:</b> On the other hand, implicit feedback are collected indirectly from user interactions, and they act as a proxy for user preference. For example. videos that you watch on YouTube are used as implicit feedback to tailor recommendations for you, even if you don’t rate the videos explicitly.\n",
    "\n",
    "Neural Collaborative Filtering (NCF) models user-item feature interaction through neural network architecture. It utilizes a Multi-Layer Perceptron (MLP) to learn user-item interactions. This is an upgrade over Matrix Factorization as MLP can theoretically learn any continuous function and has high level of nonlinearities due to multiple layers. This makes it well endowed to learn user-item interaction function. "
   ]
  },
  {
   "cell_type": "markdown",
   "metadata": {
    "id": "p076xzbGl6J_"
   },
   "source": [
    "<center>\n",
    "<h2>METHODOLOGY</h2>\n",
    "</center>\n",
    "\n",
    "<justify>\n",
    "The project has can be summarized as the following steps: \n",
    "<ul>\n",
    "<li>Data Preprocessing</li>\n",
    "<li>Building our NCF model</li>\n",
    "<li>Evaluating the model</li>\n",
    "</ul>\n",
    "\n",
    "The implementation of the NCF model is done using the PyTorch Lightning module \n",
    "</justify>\n"
   ]
  },
  {
   "cell_type": "markdown",
   "metadata": {
    "id": "Oetxe6x3t4Cy"
   },
   "source": [
    "<center>\n",
    "<h2>DATASET DESCRIPTION</h2>\n",
    "</center>\n",
    "\n",
    "The dataset used in the notebook is part of [The Movies Dataset](https://www.kaggle.com/datasets/rounakbanik/the-movies-dataset). The complete dataset consists of much more data including metadata about movies, credits and links. We use \"ratings_small.csv\" - a subset of \"ratings.csv\". The original ratings data consists of over 26 million ratings, we use ratings_small which consists of around 1L ratings so that the data is manageable. \n",
    "\n",
    "The columns in the dataset are \"userId\", \"movieId\", \"rating\" and \"timestamp\". \n",
    "<ul>\n",
    "<li>userId: It consists of the ID of the user has provided the rating, and it is an integer value ranging from 1 to around 3L. </li>\n",
    "<li>movieId: It consists the ID of the movie the user has provided the rating for, and is defined as an integer value ranging from 1 to around 1.64L. </li>\n",
    "<li>rating: It consists of the rating that the user has provided which is an integer value ranging from 1 to 5, 1 being the lowest and 5 being the highest.</li>\n",
    "<li>timestamp: Consists of the timestamp of when the rating was given.</li>\n",
    "</ul>\n"
   ]
  },
  {
   "cell_type": "markdown",
   "metadata": {
    "id": "CWI14PiexAHD"
   },
   "source": [
    "<center>\n",
    "<h2>IMPLEMENTATION</h2>\n",
    "</center>"
   ]
  },
  {
   "cell_type": "markdown",
   "metadata": {
    "id": "CsC1bl4hxM7e"
   },
   "source": [
    "<h3><b>Data Preprocessing</b></h3>"
   ]
  },
  {
   "cell_type": "code",
   "execution_count": 1,
   "metadata": {
    "id": "CHJdbAUN9SxM"
   },
   "outputs": [],
   "source": [
    "import pandas as pd\n",
    "import numpy as np\n",
    "\n",
    "np.random.seed(123)\n",
    "\n",
    "ratings = pd.read_csv('ratings_small.csv', parse_dates=['timestamp'])"
   ]
  },
  {
   "cell_type": "markdown",
   "metadata": {
    "id": "NJgfMFF5yheR"
   },
   "source": [
    "\n",
    "<h5>Train-test splitting: </h5> \n",
    "I use the timestamp column to do the train-test split, using the leave-one-out methodology. For each user, the rating that they have provided last is left as the testing data and the remaining is treated as the training data. This makes sense because it makes sense only to predict ratings that come in the future. Doing a random split would be unfair as we could potentially be using a user's recent reviews for training and earlier reviews for testing. This introduces data leakage with a look-ahead bias. "
   ]
  },
  {
   "cell_type": "code",
   "execution_count": 2,
   "metadata": {
    "id": "7SzT9NwT-ZUw"
   },
   "outputs": [],
   "source": [
    "ratings['rank_latest'] = ratings.groupby(['userId'])['timestamp'].rank(method='first', ascending=False)\n",
    "\n",
    "train_ratings = ratings[ratings['rank_latest'] != 1]\n",
    "test_ratings = ratings[ratings['rank_latest'] == 1]\n",
    "\n",
    "# drop columns that we no longer need\n",
    "train_ratings = train_ratings[['userId', 'movieId', 'rating']]\n",
    "test_ratings = test_ratings[['userId', 'movieId', 'rating']]"
   ]
  },
  {
   "cell_type": "code",
   "execution_count": 3,
   "metadata": {
    "colab": {
     "base_uri": "https://localhost:8080/",
     "height": 424
    },
    "id": "DRdD3DpX-hVw",
    "outputId": "5802a9b4-4fe1-48ee-9313-7b6a6456928a"
   },
   "outputs": [
    {
     "data": {
      "text/html": [
       "\n",
       "  <div id=\"df-855cb7ed-d614-4114-9672-28df26f2a477\">\n",
       "    <div class=\"colab-df-container\">\n",
       "      <div>\n",
       "<style scoped>\n",
       "    .dataframe tbody tr th:only-of-type {\n",
       "        vertical-align: middle;\n",
       "    }\n",
       "\n",
       "    .dataframe tbody tr th {\n",
       "        vertical-align: top;\n",
       "    }\n",
       "\n",
       "    .dataframe thead th {\n",
       "        text-align: right;\n",
       "    }\n",
       "</style>\n",
       "<table border=\"1\" class=\"dataframe\">\n",
       "  <thead>\n",
       "    <tr style=\"text-align: right;\">\n",
       "      <th></th>\n",
       "      <th>userId</th>\n",
       "      <th>movieId</th>\n",
       "      <th>rating</th>\n",
       "    </tr>\n",
       "  </thead>\n",
       "  <tbody>\n",
       "    <tr>\n",
       "      <th>11</th>\n",
       "      <td>1</td>\n",
       "      <td>1405</td>\n",
       "      <td>1.0</td>\n",
       "    </tr>\n",
       "    <tr>\n",
       "      <th>18</th>\n",
       "      <td>1</td>\n",
       "      <td>2968</td>\n",
       "      <td>1.0</td>\n",
       "    </tr>\n",
       "    <tr>\n",
       "      <th>38</th>\n",
       "      <td>2</td>\n",
       "      <td>223</td>\n",
       "      <td>1.0</td>\n",
       "    </tr>\n",
       "    <tr>\n",
       "      <th>53</th>\n",
       "      <td>2</td>\n",
       "      <td>319</td>\n",
       "      <td>1.0</td>\n",
       "    </tr>\n",
       "    <tr>\n",
       "      <th>167</th>\n",
       "      <td>4</td>\n",
       "      <td>435</td>\n",
       "      <td>1.0</td>\n",
       "    </tr>\n",
       "    <tr>\n",
       "      <th>...</th>\n",
       "      <td>...</td>\n",
       "      <td>...</td>\n",
       "      <td>...</td>\n",
       "    </tr>\n",
       "    <tr>\n",
       "      <th>99811</th>\n",
       "      <td>668</td>\n",
       "      <td>1490</td>\n",
       "      <td>1.0</td>\n",
       "    </tr>\n",
       "    <tr>\n",
       "      <th>99820</th>\n",
       "      <td>668</td>\n",
       "      <td>6425</td>\n",
       "      <td>1.0</td>\n",
       "    </tr>\n",
       "    <tr>\n",
       "      <th>99870</th>\n",
       "      <td>670</td>\n",
       "      <td>590</td>\n",
       "      <td>1.0</td>\n",
       "    </tr>\n",
       "    <tr>\n",
       "      <th>99874</th>\n",
       "      <td>670</td>\n",
       "      <td>1245</td>\n",
       "      <td>1.0</td>\n",
       "    </tr>\n",
       "    <tr>\n",
       "      <th>99955</th>\n",
       "      <td>671</td>\n",
       "      <td>3052</td>\n",
       "      <td>1.0</td>\n",
       "    </tr>\n",
       "  </tbody>\n",
       "</table>\n",
       "<p>3306 rows × 3 columns</p>\n",
       "</div>\n",
       "      <button class=\"colab-df-convert\" onclick=\"convertToInteractive('df-855cb7ed-d614-4114-9672-28df26f2a477')\"\n",
       "              title=\"Convert this dataframe to an interactive table.\"\n",
       "              style=\"display:none;\">\n",
       "        \n",
       "  <svg xmlns=\"http://www.w3.org/2000/svg\" height=\"24px\"viewBox=\"0 0 24 24\"\n",
       "       width=\"24px\">\n",
       "    <path d=\"M0 0h24v24H0V0z\" fill=\"none\"/>\n",
       "    <path d=\"M18.56 5.44l.94 2.06.94-2.06 2.06-.94-2.06-.94-.94-2.06-.94 2.06-2.06.94zm-11 1L8.5 8.5l.94-2.06 2.06-.94-2.06-.94L8.5 2.5l-.94 2.06-2.06.94zm10 10l.94 2.06.94-2.06 2.06-.94-2.06-.94-.94-2.06-.94 2.06-2.06.94z\"/><path d=\"M17.41 7.96l-1.37-1.37c-.4-.4-.92-.59-1.43-.59-.52 0-1.04.2-1.43.59L10.3 9.45l-7.72 7.72c-.78.78-.78 2.05 0 2.83L4 21.41c.39.39.9.59 1.41.59.51 0 1.02-.2 1.41-.59l7.78-7.78 2.81-2.81c.8-.78.8-2.07 0-2.86zM5.41 20L4 18.59l7.72-7.72 1.47 1.35L5.41 20z\"/>\n",
       "  </svg>\n",
       "      </button>\n",
       "      \n",
       "  <style>\n",
       "    .colab-df-container {\n",
       "      display:flex;\n",
       "      flex-wrap:wrap;\n",
       "      gap: 12px;\n",
       "    }\n",
       "\n",
       "    .colab-df-convert {\n",
       "      background-color: #E8F0FE;\n",
       "      border: none;\n",
       "      border-radius: 50%;\n",
       "      cursor: pointer;\n",
       "      display: none;\n",
       "      fill: #1967D2;\n",
       "      height: 32px;\n",
       "      padding: 0 0 0 0;\n",
       "      width: 32px;\n",
       "    }\n",
       "\n",
       "    .colab-df-convert:hover {\n",
       "      background-color: #E2EBFA;\n",
       "      box-shadow: 0px 1px 2px rgba(60, 64, 67, 0.3), 0px 1px 3px 1px rgba(60, 64, 67, 0.15);\n",
       "      fill: #174EA6;\n",
       "    }\n",
       "\n",
       "    [theme=dark] .colab-df-convert {\n",
       "      background-color: #3B4455;\n",
       "      fill: #D2E3FC;\n",
       "    }\n",
       "\n",
       "    [theme=dark] .colab-df-convert:hover {\n",
       "      background-color: #434B5C;\n",
       "      box-shadow: 0px 1px 3px 1px rgba(0, 0, 0, 0.15);\n",
       "      filter: drop-shadow(0px 1px 2px rgba(0, 0, 0, 0.3));\n",
       "      fill: #FFFFFF;\n",
       "    }\n",
       "  </style>\n",
       "\n",
       "      <script>\n",
       "        const buttonEl =\n",
       "          document.querySelector('#df-855cb7ed-d614-4114-9672-28df26f2a477 button.colab-df-convert');\n",
       "        buttonEl.style.display =\n",
       "          google.colab.kernel.accessAllowed ? 'block' : 'none';\n",
       "\n",
       "        async function convertToInteractive(key) {\n",
       "          const element = document.querySelector('#df-855cb7ed-d614-4114-9672-28df26f2a477');\n",
       "          const dataTable =\n",
       "            await google.colab.kernel.invokeFunction('convertToInteractive',\n",
       "                                                     [key], {});\n",
       "          if (!dataTable) return;\n",
       "\n",
       "          const docLinkHtml = 'Like what you see? Visit the ' +\n",
       "            '<a target=\"_blank\" href=https://colab.research.google.com/notebooks/data_table.ipynb>data table notebook</a>'\n",
       "            + ' to learn more about interactive tables.';\n",
       "          element.innerHTML = '';\n",
       "          dataTable['output_type'] = 'display_data';\n",
       "          await google.colab.output.renderOutput(dataTable, element);\n",
       "          const docLink = document.createElement('div');\n",
       "          docLink.innerHTML = docLinkHtml;\n",
       "          element.appendChild(docLink);\n",
       "        }\n",
       "      </script>\n",
       "    </div>\n",
       "  </div>\n",
       "  "
      ],
      "text/plain": [
       "       userId  movieId  rating\n",
       "11          1     1405     1.0\n",
       "18          1     2968     1.0\n",
       "38          2      223     1.0\n",
       "53          2      319     1.0\n",
       "167         4      435     1.0\n",
       "...       ...      ...     ...\n",
       "99811     668     1490     1.0\n",
       "99820     668     6425     1.0\n",
       "99870     670      590     1.0\n",
       "99874     670     1245     1.0\n",
       "99955     671     3052     1.0\n",
       "\n",
       "[3306 rows x 3 columns]"
      ]
     },
     "execution_count": 3,
     "metadata": {},
     "output_type": "execute_result"
    }
   ],
   "source": [
    "train_ratings[train_ratings.loc[:, 'rating'] == 1]"
   ]
  },
  {
   "cell_type": "markdown",
   "metadata": {
    "id": "ndpJtmAOymEL"
   },
   "source": [
    "\n",
    "<h5>Converting the data into implicit feedback: </h5> \n",
    "To convert this data into implicit feedback dataset, we'll simply binarize the ratings and convert them to 1. The value of 1 represents that the user has interacted with the item.<br>\n",
    "However, this introduces a new problem - every single sample in the dataset now belongs to the positive class. However, we also need negative samples to train our model. To dodge this issue, we generate 4 negative samples for each row of data. The 4:1 negative to positive sample is a hyperparameter, which generally works best for real world data.  "
   ]
  },
  {
   "cell_type": "code",
   "execution_count": 4,
   "metadata": {
    "id": "-6hzA_dt-pAm"
   },
   "outputs": [],
   "source": [
    "all_movieIds = ratings['movieId'].unique()\n",
    "\n",
    "users, items, labels = [], [], []\n",
    "\n",
    "user_item_set = set(zip(train_ratings['userId'], train_ratings['movieId']))\n",
    "\n",
    "num_negatives = 4\n",
    "\n",
    "for (u, i) in user_item_set:\n",
    "    users.append(u)\n",
    "    items.append(i)\n",
    "    labels.append(1) \n",
    "    for _ in range(num_negatives):\n",
    "        negative_item = np.random.choice(all_movieIds) \n",
    "        \n",
    "        while (u, negative_item) in user_item_set:\n",
    "            negative_item = np.random.choice(all_movieIds)\n",
    "        users.append(u)\n",
    "        items.append(negative_item)\n",
    "        labels.append(0) "
   ]
  },
  {
   "cell_type": "markdown",
   "metadata": {
    "id": "5tl3sMQAz8ms"
   },
   "source": [
    "Now that we have the data in the format we require, we make it into a PyTorch custome Dataset object to facilitate the training. The code below does the same."
   ]
  },
  {
   "cell_type": "code",
   "execution_count": 5,
   "metadata": {
    "id": "13L9WlR6_EhA"
   },
   "outputs": [],
   "source": [
    "import torch\n",
    "from torch.utils.data import Dataset\n",
    "\n",
    "class TrainDataset(Dataset):\n",
    "\n",
    "    def __init__(self, ratings, all_movieIds):\n",
    "        self.users, self.items, self.labels = self.get_dataset(ratings, all_movieIds)\n",
    "\n",
    "    def __len__(self):\n",
    "        return len(self.users)\n",
    "  \n",
    "    def __getitem__(self, idx):\n",
    "        return self.users[idx], self.items[idx], self.labels[idx]\n",
    "\n",
    "    def get_dataset(self, ratings, all_movieIds):\n",
    "        users, items, labels = [], [], []\n",
    "        user_item_set = set(zip(ratings['userId'], ratings['movieId']))\n",
    "\n",
    "        num_negatives = 4\n",
    "        for u, i in user_item_set:\n",
    "            users.append(u)\n",
    "            items.append(i)\n",
    "            labels.append(1)\n",
    "            for _ in range(num_negatives):\n",
    "                negative_item = np.random.choice(all_movieIds)\n",
    "                while (u, negative_item) in user_item_set:\n",
    "                    negative_item = np.random.choice(all_movieIds)\n",
    "                users.append(u)\n",
    "                items.append(negative_item)\n",
    "                labels.append(0)\n",
    "\n",
    "        return torch.tensor(users), torch.tensor(items), torch.tensor(labels)"
   ]
  },
  {
   "cell_type": "markdown",
   "metadata": {
    "id": "QuSjH9oD0jh7"
   },
   "source": [
    "<h3><b>Building our NCF model</b></h3>"
   ]
  },
  {
   "cell_type": "markdown",
   "metadata": {
    "id": "D7WCCo_K1xUQ"
   },
   "source": [
    "The model inputs have to be one-hot encoded user and item vectors. The user input vector and the item input vector are fed to the user embedding and item embedding respectively, which results in a smaller, denser user and item vectors. The embedded user and item vectors are concatenated before passing through a series of fully connected layers which maps the embeddings into a prediction vector as output. At the output layer, sigmoid activation is applied to obtain the most probable class. \n",
    "\n",
    "This architecture is defined in teh code below using PyTorch Lightning"
   ]
  },
  {
   "cell_type": "code",
   "execution_count": 7,
   "metadata": {
    "id": "Ag02Xo_g_tdY"
   },
   "outputs": [],
   "source": [
    "import torch.nn as nn\n",
    "import pytorch_lightning as pl\n",
    "from torch.utils.data import DataLoader\n",
    "\n",
    "class NCF(pl.LightningModule):\n",
    "\n",
    "    def __init__(self, num_users, num_items, ratings, all_movieIds):\n",
    "        super().__init__()\n",
    "        self.user_embedding = nn.Embedding(num_embeddings=num_users, embedding_dim=8)\n",
    "        self.item_embedding = nn.Embedding(num_embeddings=num_items, embedding_dim=8)\n",
    "        self.fc1 = nn.Linear(in_features=16, out_features=64)\n",
    "        self.fc2 = nn.Linear(in_features=64, out_features=32)\n",
    "        self.output = nn.Linear(in_features=32, out_features=1)\n",
    "        self.ratings = ratings\n",
    "        self.all_movieIds = all_movieIds\n",
    "        \n",
    "    def forward(self, user_input, item_input):\n",
    "        \n",
    "        # Pass through embedding layers\n",
    "        user_embedded = self.user_embedding(user_input)\n",
    "        item_embedded = self.item_embedding(item_input)\n",
    "\n",
    "        # Concat the two embedding layers\n",
    "        vector = torch.cat([user_embedded, item_embedded], dim=-1)\n",
    "\n",
    "        # Pass through dense layer\n",
    "        vector = nn.ReLU()(self.fc1(vector))\n",
    "        vector = nn.ReLU()(self.fc2(vector))\n",
    "\n",
    "        # Output layer\n",
    "        pred = nn.Sigmoid()(self.output(vector))\n",
    "\n",
    "        return pred\n",
    "    \n",
    "    def training_step(self, batch, batch_idx):\n",
    "        user_input, item_input, labels = batch\n",
    "        predicted_labels = self(user_input, item_input)\n",
    "        loss = nn.BCELoss()(predicted_labels, labels.view(-1, 1).float())\n",
    "        return loss\n",
    "\n",
    "    def configure_optimizers(self):\n",
    "        return torch.optim.Adam(self.parameters())\n",
    "\n",
    "    def train_dataloader(self):\n",
    "        return DataLoader(TrainDataset(self.ratings, self.all_movieIds),\n",
    "                          batch_size=512)"
   ]
  },
  {
   "cell_type": "markdown",
   "metadata": {
    "id": "9o-Zkk1T2xWJ"
   },
   "source": [
    "Now that we have our model architecture defined, we can train our model. We train the model for a total of 5 epochs. The Trainer class built-in the PyTorch module is used hence we are not required to write our own boiler plate code. "
   ]
  },
  {
   "cell_type": "code",
   "execution_count": 8,
   "metadata": {
    "colab": {
     "base_uri": "https://localhost:8080/",
     "height": 396,
     "referenced_widgets": [
      "a830535cc9c947c1a69520d53434374d",
      "e1c9574863de4a63b7d1fddf49dd65e9",
      "bab42b3be3d04437937b6af0b8c0b41e",
      "d8bb199bf8df435ebbcddf19388e2f50",
      "9b0a0526b2fc46aab608eabe7463fe6a",
      "aa8b8285c61c44679166f24ac05d9ce5",
      "693da920da034d829c5a9e50dde7ecc3",
      "e534e9e4a0594696a495cb8a85f90a09",
      "1609a7ac09154d02b8502bf14a987d2e",
      "c8f5df52259a453daef4113ca986ebc5",
      "673a7d274ddd436f96cb9682831234e2"
     ]
    },
    "id": "AovJLOun_5Pp",
    "outputId": "ed4098e3-5bdd-4d09-edc3-17379388c87f"
   },
   "outputs": [
    {
     "name": "stderr",
     "output_type": "stream",
     "text": [
      "/usr/local/lib/python3.7/dist-packages/lightning_lite/accelerators/cuda.py:159: UserWarning: Can't initialize NVML\n",
      "  warnings.warn(\"Can't initialize NVML\")\n",
      "INFO:pytorch_lightning.utilities.rank_zero:GPU available: False, used: False\n",
      "INFO:pytorch_lightning.utilities.rank_zero:TPU available: False, using: 0 TPU cores\n",
      "INFO:pytorch_lightning.utilities.rank_zero:IPU available: False, using: 0 IPUs\n",
      "INFO:pytorch_lightning.utilities.rank_zero:HPU available: False, using: 0 HPUs\n",
      "INFO:pytorch_lightning.callbacks.model_summary:\n",
      "  | Name           | Type      | Params\n",
      "---------------------------------------------\n",
      "0 | user_embedding | Embedding | 5.4 K \n",
      "1 | item_embedding | Embedding | 1.3 M \n",
      "2 | fc1            | Linear    | 1.1 K \n",
      "3 | fc2            | Linear    | 2.1 K \n",
      "4 | output         | Linear    | 33    \n",
      "---------------------------------------------\n",
      "1.3 M     Trainable params\n",
      "0         Non-trainable params\n",
      "1.3 M     Total params\n",
      "5.281     Total estimated model params size (MB)\n"
     ]
    },
    {
     "data": {
      "application/vnd.jupyter.widget-view+json": {
       "model_id": "a830535cc9c947c1a69520d53434374d",
       "version_major": 2,
       "version_minor": 0
      },
      "text/plain": [
       "Training: 0it [00:00, ?it/s]"
      ]
     },
     "metadata": {},
     "output_type": "display_data"
    },
    {
     "name": "stderr",
     "output_type": "stream",
     "text": [
      "INFO:pytorch_lightning.utilities.rank_zero:`Trainer.fit` stopped: `max_epochs=5` reached.\n"
     ]
    }
   ],
   "source": [
    "num_users = ratings['userId'].max()+1\n",
    "num_items = ratings['movieId'].max()+1\n",
    "all_movieIds = ratings['movieId'].unique()\n",
    "\n",
    "model = NCF(num_users, num_items, train_ratings, all_movieIds)\n",
    "\n",
    "trainer = pl.Trainer(max_epochs=5, logger=False, reload_dataloaders_every_n_epochs=True)\n",
    "\n",
    "trainer.fit(model)"
   ]
  },
  {
   "cell_type": "markdown",
   "metadata": {
    "id": "SH6i6L3W3I02"
   },
   "source": [
    "<h3><b>Evaluating the model</b></h3>"
   ]
  },
  {
   "cell_type": "markdown",
   "metadata": {
    "id": "YWiCkHSk3Vfk"
   },
   "source": [
    "Traditional ML techniques use metric like Accuracy and RMSE to evaluate the model. However, these metrics are too simplistic to evaluate a recommender system. This is because, given a predicted list of items, we do not need the user to interact with every single item in the list. We only need the user to interact with at least one item - if so, then the recommendations have worked. \n",
    "\n",
    "Keeping this in mind, we evaluate our model using the following steps: \n",
    "<ul>\n",
    "<li>For each user, we select 99 items that the user has not interacted with. (Note that the value of 99 is a hyperparameter.</li>\n",
    "<li>Combine these 99 items with the actual test item (which, from previous definitions, is the last item the user interacted with). We now have a total of 100 items.</li>\n",
    "<li>Run the model on these items. The model outputs probabilities that the user would interact with the items. We rank these 100 items based on that probability.</li>\n",
    "<li>Select the top 10 items from this list. If the actual test item is present in this top 10 list, then the recommender system has worked for that user. Let's call this scenario a <i>hit</i>. The selection of top 10 items is a common practice in recommender systems, though the number of items we wish to select is a hyperparameter.</li>\n",
    "<li>Repeat this process for all the users. Our evaluation metric would be the Hit Ratio which is nothing but the average number of hits of all users. Since we chose the top 10 items, we call this the Hit Ratio @ 10.</li>\n",
    "</ul>"
   ]
  },
  {
   "cell_type": "code",
   "execution_count": 12,
   "metadata": {
    "colab": {
     "base_uri": "https://localhost:8080/"
    },
    "id": "HCGnRVr-Tmj4",
    "outputId": "f1de4425-b5df-460a-b19f-c9b2a33f11c9"
   },
   "outputs": [
    {
     "name": "stdout",
     "output_type": "stream",
     "text": [
      "The Hit Ratio @ 10 is 0.89\n"
     ]
    }
   ],
   "source": [
    "# User-item pairs for testing\n",
    "test_user_item_set = set(zip(test_ratings['userId'], test_ratings['movieId']))\n",
    "\n",
    "# Dict of all items that are interacted with by each user\n",
    "user_interacted_items = ratings.groupby('userId')['movieId'].apply(list).to_dict()\n",
    "\n",
    "hits = []\n",
    "for (u,i) in test_user_item_set:\n",
    "    interacted_items = user_interacted_items[u]\n",
    "    not_interacted_items = set(all_movieIds) - set(interacted_items)\n",
    "    selected_not_interacted = list(np.random.choice(list(not_interacted_items), 99))\n",
    "    test_items = selected_not_interacted + [i]\n",
    "    \n",
    "    predicted_labels = np.squeeze(model(torch.tensor([u]*100), \n",
    "                                        torch.tensor(test_items)).detach().numpy())\n",
    "    \n",
    "    top10_items = [test_items[i] for i in np.argsort(predicted_labels)[::-1][0:10].tolist()]\n",
    "    \n",
    "    if i in top10_items:\n",
    "        hits.append(1)\n",
    "    else:\n",
    "        hits.append(0)\n",
    "        \n",
    "print(\"The Hit Ratio @ 10 is {:.2f}\".format(np.average(hits)))"
   ]
  },
  {
   "cell_type": "markdown",
   "metadata": {
    "id": "4RPYbuXv5GqM"
   },
   "source": [
    "<center>\n",
    "<h2>RESULTS/INFERENCE</h2>\n",
    "</center>"
   ]
  },
  {
   "cell_type": "markdown",
   "metadata": {
    "id": "4i0BiOl45Ygw"
   },
   "source": [
    "We achieve a Hit Ratio @ 10 of 0.89. Intuitively, this means that 89% of the users were recommended the actual item among a list of 10 that they eventually interacted with. "
   ]
  }
 ],
 "metadata": {
  "colab": {
   "collapsed_sections": [],
   "provenance": []
  },
  "gpuClass": "standard",
  "kernelspec": {
   "display_name": "Python 3 (ipykernel)",
   "language": "python",
   "name": "python3"
  },
  "language_info": {
   "codemirror_mode": {
    "name": "ipython",
    "version": 3
   },
   "file_extension": ".py",
   "mimetype": "text/x-python",
   "name": "python",
   "nbconvert_exporter": "python",
   "pygments_lexer": "ipython3",
   "version": "3.11.1"
  },
  "widgets": {
   "application/vnd.jupyter.widget-state+json": {
    "1609a7ac09154d02b8502bf14a987d2e": {
     "model_module": "@jupyter-widgets/controls",
     "model_module_version": "1.5.0",
     "model_name": "ProgressStyleModel",
     "state": {
      "_model_module": "@jupyter-widgets/controls",
      "_model_module_version": "1.5.0",
      "_model_name": "ProgressStyleModel",
      "_view_count": null,
      "_view_module": "@jupyter-widgets/base",
      "_view_module_version": "1.2.0",
      "_view_name": "StyleView",
      "bar_color": null,
      "description_width": ""
     }
    },
    "673a7d274ddd436f96cb9682831234e2": {
     "model_module": "@jupyter-widgets/controls",
     "model_module_version": "1.5.0",
     "model_name": "DescriptionStyleModel",
     "state": {
      "_model_module": "@jupyter-widgets/controls",
      "_model_module_version": "1.5.0",
      "_model_name": "DescriptionStyleModel",
      "_view_count": null,
      "_view_module": "@jupyter-widgets/base",
      "_view_module_version": "1.2.0",
      "_view_name": "StyleView",
      "description_width": ""
     }
    },
    "693da920da034d829c5a9e50dde7ecc3": {
     "model_module": "@jupyter-widgets/controls",
     "model_module_version": "1.5.0",
     "model_name": "DescriptionStyleModel",
     "state": {
      "_model_module": "@jupyter-widgets/controls",
      "_model_module_version": "1.5.0",
      "_model_name": "DescriptionStyleModel",
      "_view_count": null,
      "_view_module": "@jupyter-widgets/base",
      "_view_module_version": "1.2.0",
      "_view_name": "StyleView",
      "description_width": ""
     }
    },
    "9b0a0526b2fc46aab608eabe7463fe6a": {
     "model_module": "@jupyter-widgets/base",
     "model_module_version": "1.2.0",
     "model_name": "LayoutModel",
     "state": {
      "_model_module": "@jupyter-widgets/base",
      "_model_module_version": "1.2.0",
      "_model_name": "LayoutModel",
      "_view_count": null,
      "_view_module": "@jupyter-widgets/base",
      "_view_module_version": "1.2.0",
      "_view_name": "LayoutView",
      "align_content": null,
      "align_items": null,
      "align_self": null,
      "border": null,
      "bottom": null,
      "display": "inline-flex",
      "flex": null,
      "flex_flow": "row wrap",
      "grid_area": null,
      "grid_auto_columns": null,
      "grid_auto_flow": null,
      "grid_auto_rows": null,
      "grid_column": null,
      "grid_gap": null,
      "grid_row": null,
      "grid_template_areas": null,
      "grid_template_columns": null,
      "grid_template_rows": null,
      "height": null,
      "justify_content": null,
      "justify_items": null,
      "left": null,
      "margin": null,
      "max_height": null,
      "max_width": null,
      "min_height": null,
      "min_width": null,
      "object_fit": null,
      "object_position": null,
      "order": null,
      "overflow": null,
      "overflow_x": null,
      "overflow_y": null,
      "padding": null,
      "right": null,
      "top": null,
      "visibility": null,
      "width": "100%"
     }
    },
    "a830535cc9c947c1a69520d53434374d": {
     "model_module": "@jupyter-widgets/controls",
     "model_module_version": "1.5.0",
     "model_name": "HBoxModel",
     "state": {
      "_dom_classes": [],
      "_model_module": "@jupyter-widgets/controls",
      "_model_module_version": "1.5.0",
      "_model_name": "HBoxModel",
      "_view_count": null,
      "_view_module": "@jupyter-widgets/controls",
      "_view_module_version": "1.5.0",
      "_view_name": "HBoxView",
      "box_style": "",
      "children": [
       "IPY_MODEL_e1c9574863de4a63b7d1fddf49dd65e9",
       "IPY_MODEL_bab42b3be3d04437937b6af0b8c0b41e",
       "IPY_MODEL_d8bb199bf8df435ebbcddf19388e2f50"
      ],
      "layout": "IPY_MODEL_9b0a0526b2fc46aab608eabe7463fe6a"
     }
    },
    "aa8b8285c61c44679166f24ac05d9ce5": {
     "model_module": "@jupyter-widgets/base",
     "model_module_version": "1.2.0",
     "model_name": "LayoutModel",
     "state": {
      "_model_module": "@jupyter-widgets/base",
      "_model_module_version": "1.2.0",
      "_model_name": "LayoutModel",
      "_view_count": null,
      "_view_module": "@jupyter-widgets/base",
      "_view_module_version": "1.2.0",
      "_view_name": "LayoutView",
      "align_content": null,
      "align_items": null,
      "align_self": null,
      "border": null,
      "bottom": null,
      "display": null,
      "flex": null,
      "flex_flow": null,
      "grid_area": null,
      "grid_auto_columns": null,
      "grid_auto_flow": null,
      "grid_auto_rows": null,
      "grid_column": null,
      "grid_gap": null,
      "grid_row": null,
      "grid_template_areas": null,
      "grid_template_columns": null,
      "grid_template_rows": null,
      "height": null,
      "justify_content": null,
      "justify_items": null,
      "left": null,
      "margin": null,
      "max_height": null,
      "max_width": null,
      "min_height": null,
      "min_width": null,
      "object_fit": null,
      "object_position": null,
      "order": null,
      "overflow": null,
      "overflow_x": null,
      "overflow_y": null,
      "padding": null,
      "right": null,
      "top": null,
      "visibility": null,
      "width": null
     }
    },
    "bab42b3be3d04437937b6af0b8c0b41e": {
     "model_module": "@jupyter-widgets/controls",
     "model_module_version": "1.5.0",
     "model_name": "FloatProgressModel",
     "state": {
      "_dom_classes": [],
      "_model_module": "@jupyter-widgets/controls",
      "_model_module_version": "1.5.0",
      "_model_name": "FloatProgressModel",
      "_view_count": null,
      "_view_module": "@jupyter-widgets/controls",
      "_view_module_version": "1.5.0",
      "_view_name": "ProgressView",
      "bar_style": "success",
      "description": "",
      "description_tooltip": null,
      "layout": "IPY_MODEL_e534e9e4a0594696a495cb8a85f90a09",
      "max": 971,
      "min": 0,
      "orientation": "horizontal",
      "style": "IPY_MODEL_1609a7ac09154d02b8502bf14a987d2e",
      "value": 971
     }
    },
    "c8f5df52259a453daef4113ca986ebc5": {
     "model_module": "@jupyter-widgets/base",
     "model_module_version": "1.2.0",
     "model_name": "LayoutModel",
     "state": {
      "_model_module": "@jupyter-widgets/base",
      "_model_module_version": "1.2.0",
      "_model_name": "LayoutModel",
      "_view_count": null,
      "_view_module": "@jupyter-widgets/base",
      "_view_module_version": "1.2.0",
      "_view_name": "LayoutView",
      "align_content": null,
      "align_items": null,
      "align_self": null,
      "border": null,
      "bottom": null,
      "display": null,
      "flex": null,
      "flex_flow": null,
      "grid_area": null,
      "grid_auto_columns": null,
      "grid_auto_flow": null,
      "grid_auto_rows": null,
      "grid_column": null,
      "grid_gap": null,
      "grid_row": null,
      "grid_template_areas": null,
      "grid_template_columns": null,
      "grid_template_rows": null,
      "height": null,
      "justify_content": null,
      "justify_items": null,
      "left": null,
      "margin": null,
      "max_height": null,
      "max_width": null,
      "min_height": null,
      "min_width": null,
      "object_fit": null,
      "object_position": null,
      "order": null,
      "overflow": null,
      "overflow_x": null,
      "overflow_y": null,
      "padding": null,
      "right": null,
      "top": null,
      "visibility": null,
      "width": null
     }
    },
    "d8bb199bf8df435ebbcddf19388e2f50": {
     "model_module": "@jupyter-widgets/controls",
     "model_module_version": "1.5.0",
     "model_name": "HTMLModel",
     "state": {
      "_dom_classes": [],
      "_model_module": "@jupyter-widgets/controls",
      "_model_module_version": "1.5.0",
      "_model_name": "HTMLModel",
      "_view_count": null,
      "_view_module": "@jupyter-widgets/controls",
      "_view_module_version": "1.5.0",
      "_view_name": "HTMLView",
      "description": "",
      "description_tooltip": null,
      "layout": "IPY_MODEL_c8f5df52259a453daef4113ca986ebc5",
      "placeholder": "​",
      "style": "IPY_MODEL_673a7d274ddd436f96cb9682831234e2",
      "value": " 971/971 [00:32&lt;00:00, 30.03it/s, loss=0.319]"
     }
    },
    "e1c9574863de4a63b7d1fddf49dd65e9": {
     "model_module": "@jupyter-widgets/controls",
     "model_module_version": "1.5.0",
     "model_name": "HTMLModel",
     "state": {
      "_dom_classes": [],
      "_model_module": "@jupyter-widgets/controls",
      "_model_module_version": "1.5.0",
      "_model_name": "HTMLModel",
      "_view_count": null,
      "_view_module": "@jupyter-widgets/controls",
      "_view_module_version": "1.5.0",
      "_view_name": "HTMLView",
      "description": "",
      "description_tooltip": null,
      "layout": "IPY_MODEL_aa8b8285c61c44679166f24ac05d9ce5",
      "placeholder": "​",
      "style": "IPY_MODEL_693da920da034d829c5a9e50dde7ecc3",
      "value": "Epoch 4: 100%"
     }
    },
    "e534e9e4a0594696a495cb8a85f90a09": {
     "model_module": "@jupyter-widgets/base",
     "model_module_version": "1.2.0",
     "model_name": "LayoutModel",
     "state": {
      "_model_module": "@jupyter-widgets/base",
      "_model_module_version": "1.2.0",
      "_model_name": "LayoutModel",
      "_view_count": null,
      "_view_module": "@jupyter-widgets/base",
      "_view_module_version": "1.2.0",
      "_view_name": "LayoutView",
      "align_content": null,
      "align_items": null,
      "align_self": null,
      "border": null,
      "bottom": null,
      "display": null,
      "flex": "2",
      "flex_flow": null,
      "grid_area": null,
      "grid_auto_columns": null,
      "grid_auto_flow": null,
      "grid_auto_rows": null,
      "grid_column": null,
      "grid_gap": null,
      "grid_row": null,
      "grid_template_areas": null,
      "grid_template_columns": null,
      "grid_template_rows": null,
      "height": null,
      "justify_content": null,
      "justify_items": null,
      "left": null,
      "margin": null,
      "max_height": null,
      "max_width": null,
      "min_height": null,
      "min_width": null,
      "object_fit": null,
      "object_position": null,
      "order": null,
      "overflow": null,
      "overflow_x": null,
      "overflow_y": null,
      "padding": null,
      "right": null,
      "top": null,
      "visibility": null,
      "width": null
     }
    }
   }
  }
 },
 "nbformat": 4,
 "nbformat_minor": 1
}
